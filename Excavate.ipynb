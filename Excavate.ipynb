{
  "cells": [
    {
      "cell_type": "markdown",
      "metadata": {
        "id": "vSEosrXemK8J"
      },
      "source": [
        "Importing the libraries."
      ]
    },
    {
      "cell_type": "code",
      "execution_count": 1,
      "metadata": {
        "id": "ii7O3OLhFIKi"
      },
      "outputs": [],
      "source": [
        "import numpy as np\n",
        "import pandas as pd\n",
        "import matplotlib.pyplot as plt\n",
        "from sklearn.ensemble import RandomForestRegressor\n",
        "from sklearn.model_selection import GridSearchCV, train_test_split\n",
        "from sklearn.metrics import mean_squared_error"
      ]
    },
    {
      "cell_type": "code",
      "execution_count": 4,
      "metadata": {
        "colab": {
          "base_uri": "https://localhost:8080/",
          "height": 321
        },
        "id": "4umjOh3hFLkb",
        "outputId": "19087618-6d24-4933-a4a5-9b2b3424df80"
      },
      "outputs": [
        {
          "data": {
            "text/html": [
              "<div>\n",
              "<style scoped>\n",
              "    .dataframe tbody tr th:only-of-type {\n",
              "        vertical-align: middle;\n",
              "    }\n",
              "\n",
              "    .dataframe tbody tr th {\n",
              "        vertical-align: top;\n",
              "    }\n",
              "\n",
              "    .dataframe thead th {\n",
              "        text-align: right;\n",
              "    }\n",
              "</style>\n",
              "<table border=\"1\" class=\"dataframe\">\n",
              "  <thead>\n",
              "    <tr style=\"text-align: right;\">\n",
              "      <th></th>\n",
              "      <th>Alloy</th>\n",
              "      <th>Tg</th>\n",
              "      <th>Tx</th>\n",
              "      <th>Tl</th>\n",
              "      <th>TEN</th>\n",
              "      <th>VA</th>\n",
              "      <th>d</th>\n",
              "      <th>Sm</th>\n",
              "      <th>Dmax</th>\n",
              "    </tr>\n",
              "  </thead>\n",
              "  <tbody>\n",
              "    <tr>\n",
              "      <th>0</th>\n",
              "      <td>Ti50Cu42.5Ni7.5</td>\n",
              "      <td>670.0</td>\n",
              "      <td>708.0</td>\n",
              "      <td>1226.0</td>\n",
              "      <td>1.76</td>\n",
              "      <td>13.27</td>\n",
              "      <td>0.10</td>\n",
              "      <td>7.90</td>\n",
              "      <td>0.2</td>\n",
              "    </tr>\n",
              "    <tr>\n",
              "      <th>1</th>\n",
              "      <td>Zr70Al8Cu19Ni3</td>\n",
              "      <td>630.0</td>\n",
              "      <td>689.0</td>\n",
              "      <td>1200.0</td>\n",
              "      <td>1.48</td>\n",
              "      <td>18.38</td>\n",
              "      <td>0.13</td>\n",
              "      <td>7.92</td>\n",
              "      <td>0.2</td>\n",
              "    </tr>\n",
              "    <tr>\n",
              "      <th>2</th>\n",
              "      <td>Zr70Al8Cu3Ni19</td>\n",
              "      <td>640.0</td>\n",
              "      <td>710.0</td>\n",
              "      <td>1220.0</td>\n",
              "      <td>1.48</td>\n",
              "      <td>18.11</td>\n",
              "      <td>0.15</td>\n",
              "      <td>8.05</td>\n",
              "      <td>0.2</td>\n",
              "    </tr>\n",
              "    <tr>\n",
              "      <th>3</th>\n",
              "      <td>Ag46.2Mg15.4Ca38.4</td>\n",
              "      <td>407.0</td>\n",
              "      <td>439.0</td>\n",
              "      <td>809.0</td>\n",
              "      <td>1.48</td>\n",
              "      <td>16.48</td>\n",
              "      <td>0.10</td>\n",
              "      <td>8.79</td>\n",
              "      <td>0.3</td>\n",
              "    </tr>\n",
              "    <tr>\n",
              "      <th>4</th>\n",
              "      <td>Ag53.8Mg7.7Ca30.8Cu7.7</td>\n",
              "      <td>428.0</td>\n",
              "      <td>488.0</td>\n",
              "      <td>843.0</td>\n",
              "      <td>1.59</td>\n",
              "      <td>15.55</td>\n",
              "      <td>0.10</td>\n",
              "      <td>9.45</td>\n",
              "      <td>0.3</td>\n",
              "    </tr>\n",
              "  </tbody>\n",
              "</table>\n",
              "</div>"
            ],
            "text/plain": [
              "                    Alloy     Tg     Tx      Tl   TEN     VA     d    Sm  Dmax\n",
              "0         Ti50Cu42.5Ni7.5  670.0  708.0  1226.0  1.76  13.27  0.10  7.90   0.2\n",
              "1          Zr70Al8Cu19Ni3  630.0  689.0  1200.0  1.48  18.38  0.13  7.92   0.2\n",
              "2          Zr70Al8Cu3Ni19  640.0  710.0  1220.0  1.48  18.11  0.15  8.05   0.2\n",
              "3      Ag46.2Mg15.4Ca38.4  407.0  439.0   809.0  1.48  16.48  0.10  8.79   0.3\n",
              "4  Ag53.8Mg7.7Ca30.8Cu7.7  428.0  488.0   843.0  1.59  15.55  0.10  9.45   0.3"
            ]
          },
          "execution_count": 4,
          "metadata": {},
          "output_type": "execute_result"
        }
      ],
      "source": [
        "df=pd.read_csv('C:/Users/Aditya/Desktop/Projects/Facial Expression Recognition/Excavate IIT Kharagpur/GLASS_DATA.csv')\n",
        "df.head()"
      ]
    },
    {
      "cell_type": "code",
      "execution_count": 5,
      "metadata": {
        "id": "45_crzQZj4F2"
      },
      "outputs": [
        {
          "data": {
            "text/plain": [
              "[<matplotlib.lines.Line2D at 0x156de6b0ad0>]"
            ]
          },
          "execution_count": 5,
          "metadata": {},
          "output_type": "execute_result"
        },
        {
          "data": {
            "image/png": "[encoded data removed]",
            "text/plain": [
              "<Figure size 640x480 with 1 Axes>"
            ]
          },
          "metadata": {},
          "output_type": "display_data"
        }
      ],
      "source": [
        "plt.plot(df.Dmax)"
      ]
    },
    {
      "cell_type": "markdown",
      "metadata": {
        "id": "xfRex_kRmRQ6"
      },
      "source": [
        "Removing the outlier cases at the extremum."
      ]
    },
    {
      "cell_type": "code",
      "execution_count": 6,
      "metadata": {
        "colab": {
          "base_uri": "https://localhost:8080/",
          "height": 206
        },
        "id": "4Kk5gBOqjvjI",
        "outputId": "43f43989-28c3-4001-f547-4fb4278e540c"
      },
      "outputs": [
        {
          "data": {
            "text/html": [
              "<div>\n",
              "<style scoped>\n",
              "    .dataframe tbody tr th:only-of-type {\n",
              "        vertical-align: middle;\n",
              "    }\n",
              "\n",
              "    .dataframe tbody tr th {\n",
              "        vertical-align: top;\n",
              "    }\n",
              "\n",
              "    .dataframe thead th {\n",
              "        text-align: right;\n",
              "    }\n",
              "</style>\n",
              "<table border=\"1\" class=\"dataframe\">\n",
              "  <thead>\n",
              "    <tr style=\"text-align: right;\">\n",
              "      <th></th>\n",
              "      <th>Alloy</th>\n",
              "      <th>Tg</th>\n",
              "      <th>Tx</th>\n",
              "      <th>Tl</th>\n",
              "      <th>TEN</th>\n",
              "      <th>VA</th>\n",
              "      <th>d</th>\n",
              "      <th>Sm</th>\n",
              "      <th>Dmax</th>\n",
              "    </tr>\n",
              "  </thead>\n",
              "  <tbody>\n",
              "    <tr>\n",
              "      <th>0</th>\n",
              "      <td>Ti50Cu42.5Ni7.5</td>\n",
              "      <td>670.0</td>\n",
              "      <td>708.0</td>\n",
              "      <td>1226.0</td>\n",
              "      <td>1.76</td>\n",
              "      <td>13.27</td>\n",
              "      <td>0.10</td>\n",
              "      <td>7.90</td>\n",
              "      <td>0.2</td>\n",
              "    </tr>\n",
              "    <tr>\n",
              "      <th>1</th>\n",
              "      <td>Zr70Al8Cu19Ni3</td>\n",
              "      <td>630.0</td>\n",
              "      <td>689.0</td>\n",
              "      <td>1200.0</td>\n",
              "      <td>1.48</td>\n",
              "      <td>18.38</td>\n",
              "      <td>0.13</td>\n",
              "      <td>7.92</td>\n",
              "      <td>0.2</td>\n",
              "    </tr>\n",
              "    <tr>\n",
              "      <th>2</th>\n",
              "      <td>Zr70Al8Cu3Ni19</td>\n",
              "      <td>640.0</td>\n",
              "      <td>710.0</td>\n",
              "      <td>1220.0</td>\n",
              "      <td>1.48</td>\n",
              "      <td>18.11</td>\n",
              "      <td>0.15</td>\n",
              "      <td>8.05</td>\n",
              "      <td>0.2</td>\n",
              "    </tr>\n",
              "    <tr>\n",
              "      <th>3</th>\n",
              "      <td>Ag46.2Mg15.4Ca38.4</td>\n",
              "      <td>407.0</td>\n",
              "      <td>439.0</td>\n",
              "      <td>809.0</td>\n",
              "      <td>1.48</td>\n",
              "      <td>16.48</td>\n",
              "      <td>0.10</td>\n",
              "      <td>8.79</td>\n",
              "      <td>0.3</td>\n",
              "    </tr>\n",
              "    <tr>\n",
              "      <th>4</th>\n",
              "      <td>Ag53.8Mg7.7Ca30.8Cu7.7</td>\n",
              "      <td>428.0</td>\n",
              "      <td>488.0</td>\n",
              "      <td>843.0</td>\n",
              "      <td>1.59</td>\n",
              "      <td>15.55</td>\n",
              "      <td>0.10</td>\n",
              "      <td>9.45</td>\n",
              "      <td>0.3</td>\n",
              "    </tr>\n",
              "  </tbody>\n",
              "</table>\n",
              "</div>"
            ],
            "text/plain": [
              "                    Alloy     Tg     Tx      Tl   TEN     VA     d    Sm  Dmax\n",
              "0         Ti50Cu42.5Ni7.5  670.0  708.0  1226.0  1.76  13.27  0.10  7.90   0.2\n",
              "1          Zr70Al8Cu19Ni3  630.0  689.0  1200.0  1.48  18.38  0.13  7.92   0.2\n",
              "2          Zr70Al8Cu3Ni19  640.0  710.0  1220.0  1.48  18.11  0.15  8.05   0.2\n",
              "3      Ag46.2Mg15.4Ca38.4  407.0  439.0   809.0  1.48  16.48  0.10  8.79   0.3\n",
              "4  Ag53.8Mg7.7Ca30.8Cu7.7  428.0  488.0   843.0  1.59  15.55  0.10  9.45   0.3"
            ]
          },
          "execution_count": 6,
          "metadata": {},
          "output_type": "execute_result"
        }
      ],
      "source": [
        "df1=df.head(400)\n",
        "df1.head()"
      ]
    },
    {
      "cell_type": "code",
      "execution_count": 7,
      "metadata": {
        "colab": {
          "base_uri": "https://localhost:8080/",
          "height": 447
        },
        "id": "xhDd-elpkPiD",
        "outputId": "979df1b6-9dc6-4d09-edb9-b564c44f2b6b"
      },
      "outputs": [
        {
          "data": {
            "text/plain": [
              "[<matplotlib.lines.Line2D at 0x156de745820>]"
            ]
          },
          "execution_count": 7,
          "metadata": {},
          "output_type": "execute_result"
        },
        {
          "data": {
            "image/png": "[encoded data removed]",
            "text/plain": [
              "<Figure size 640x480 with 1 Axes>"
            ]
          },
          "metadata": {},
          "output_type": "display_data"
        }
      ],
      "source": [
        "plt.plot(df1.Dmax)"
      ]
    },
    {
      "cell_type": "code",
      "execution_count": 8,
      "metadata": {
        "colab": {
          "base_uri": "https://localhost:8080/",
          "height": 423
        },
        "id": "nvhzDmf6FWvL",
        "outputId": "22fe2716-0d65-436a-dcf4-9f1798052539"
      },
      "outputs": [
        {
          "data": {
            "text/html": [
              "<div>\n",
              "<style scoped>\n",
              "    .dataframe tbody tr th:only-of-type {\n",
              "        vertical-align: middle;\n",
              "    }\n",
              "\n",
              "    .dataframe tbody tr th {\n",
              "        vertical-align: top;\n",
              "    }\n",
              "\n",
              "    .dataframe thead th {\n",
              "        text-align: right;\n",
              "    }\n",
              "</style>\n",
              "<table border=\"1\" class=\"dataframe\">\n",
              "  <thead>\n",
              "    <tr style=\"text-align: right;\">\n",
              "      <th></th>\n",
              "      <th>Tg</th>\n",
              "      <th>Tx</th>\n",
              "      <th>Tl</th>\n",
              "      <th>TEN</th>\n",
              "      <th>VA</th>\n",
              "      <th>d</th>\n",
              "      <th>Sm</th>\n",
              "    </tr>\n",
              "  </thead>\n",
              "  <tbody>\n",
              "    <tr>\n",
              "      <th>0</th>\n",
              "      <td>670.0</td>\n",
              "      <td>708.0</td>\n",
              "      <td>1226.0</td>\n",
              "      <td>1.76</td>\n",
              "      <td>13.27</td>\n",
              "      <td>0.10</td>\n",
              "      <td>7.90</td>\n",
              "    </tr>\n",
              "    <tr>\n",
              "      <th>1</th>\n",
              "      <td>630.0</td>\n",
              "      <td>689.0</td>\n",
              "      <td>1200.0</td>\n",
              "      <td>1.48</td>\n",
              "      <td>18.38</td>\n",
              "      <td>0.13</td>\n",
              "      <td>7.92</td>\n",
              "    </tr>\n",
              "    <tr>\n",
              "      <th>2</th>\n",
              "      <td>640.0</td>\n",
              "      <td>710.0</td>\n",
              "      <td>1220.0</td>\n",
              "      <td>1.48</td>\n",
              "      <td>18.11</td>\n",
              "      <td>0.15</td>\n",
              "      <td>8.05</td>\n",
              "    </tr>\n",
              "    <tr>\n",
              "      <th>3</th>\n",
              "      <td>407.0</td>\n",
              "      <td>439.0</td>\n",
              "      <td>809.0</td>\n",
              "      <td>1.48</td>\n",
              "      <td>16.48</td>\n",
              "      <td>0.10</td>\n",
              "      <td>8.79</td>\n",
              "    </tr>\n",
              "    <tr>\n",
              "      <th>4</th>\n",
              "      <td>428.0</td>\n",
              "      <td>488.0</td>\n",
              "      <td>843.0</td>\n",
              "      <td>1.59</td>\n",
              "      <td>15.55</td>\n",
              "      <td>0.10</td>\n",
              "      <td>9.45</td>\n",
              "    </tr>\n",
              "    <tr>\n",
              "      <th>...</th>\n",
              "      <td>...</td>\n",
              "      <td>...</td>\n",
              "      <td>...</td>\n",
              "      <td>...</td>\n",
              "      <td>...</td>\n",
              "      <td>...</td>\n",
              "      <td>...</td>\n",
              "    </tr>\n",
              "    <tr>\n",
              "      <th>395</th>\n",
              "      <td>790.0</td>\n",
              "      <td>875.0</td>\n",
              "      <td>1278.0</td>\n",
              "      <td>1.58</td>\n",
              "      <td>15.19</td>\n",
              "      <td>0.16</td>\n",
              "      <td>11.05</td>\n",
              "    </tr>\n",
              "    <tr>\n",
              "      <th>396</th>\n",
              "      <td>785.0</td>\n",
              "      <td>874.0</td>\n",
              "      <td>1280.0</td>\n",
              "      <td>1.58</td>\n",
              "      <td>15.34</td>\n",
              "      <td>0.16</td>\n",
              "      <td>10.93</td>\n",
              "    </tr>\n",
              "    <tr>\n",
              "      <th>397</th>\n",
              "      <td>625.0</td>\n",
              "      <td>707.0</td>\n",
              "      <td>1171.0</td>\n",
              "      <td>1.48</td>\n",
              "      <td>18.29</td>\n",
              "      <td>0.14</td>\n",
              "      <td>8.46</td>\n",
              "    </tr>\n",
              "    <tr>\n",
              "      <th>398</th>\n",
              "      <td>413.0</td>\n",
              "      <td>459.0</td>\n",
              "      <td>729.0</td>\n",
              "      <td>1.36</td>\n",
              "      <td>25.99</td>\n",
              "      <td>0.23</td>\n",
              "      <td>10.91</td>\n",
              "    </tr>\n",
              "    <tr>\n",
              "      <th>399</th>\n",
              "      <td>440.0</td>\n",
              "      <td>477.0</td>\n",
              "      <td>726.0</td>\n",
              "      <td>1.44</td>\n",
              "      <td>13.13</td>\n",
              "      <td>0.13</td>\n",
              "      <td>10.58</td>\n",
              "    </tr>\n",
              "  </tbody>\n",
              "</table>\n",
              "<p>400 rows × 7 columns</p>\n",
              "</div>"
            ],
            "text/plain": [
              "        Tg     Tx      Tl   TEN     VA     d     Sm\n",
              "0    670.0  708.0  1226.0  1.76  13.27  0.10   7.90\n",
              "1    630.0  689.0  1200.0  1.48  18.38  0.13   7.92\n",
              "2    640.0  710.0  1220.0  1.48  18.11  0.15   8.05\n",
              "3    407.0  439.0   809.0  1.48  16.48  0.10   8.79\n",
              "4    428.0  488.0   843.0  1.59  15.55  0.10   9.45\n",
              "..     ...    ...     ...   ...    ...   ...    ...\n",
              "395  790.0  875.0  1278.0  1.58  15.19  0.16  11.05\n",
              "396  785.0  874.0  1280.0  1.58  15.34  0.16  10.93\n",
              "397  625.0  707.0  1171.0  1.48  18.29  0.14   8.46\n",
              "398  413.0  459.0   729.0  1.36  25.99  0.23  10.91\n",
              "399  440.0  477.0   726.0  1.44  13.13  0.13  10.58\n",
              "\n",
              "[400 rows x 7 columns]"
            ]
          },
          "execution_count": 8,
          "metadata": {},
          "output_type": "execute_result"
        }
      ],
      "source": [
        "X=df1.drop(['Alloy','Dmax'],axis=1)\n",
        "X"
      ]
    },
    {
      "cell_type": "code",
      "execution_count": 9,
      "metadata": {
        "colab": {
          "base_uri": "https://localhost:8080/"
        },
        "id": "xeVZhhyWFgKZ",
        "outputId": "be6e7ecf-3c74-492d-b9e8-78aa13ea5c08"
      },
      "outputs": [
        {
          "data": {
            "text/plain": [
              "0       0.2\n",
              "1       0.2\n",
              "2       0.2\n",
              "3       0.3\n",
              "4       0.3\n",
              "       ... \n",
              "395    10.0\n",
              "396    10.0\n",
              "397    10.0\n",
              "398    10.5\n",
              "399    11.0\n",
              "Name: Dmax, Length: 400, dtype: float64"
            ]
          },
          "execution_count": 9,
          "metadata": {},
          "output_type": "execute_result"
        }
      ],
      "source": [
        "y=df1.Dmax\n",
        "y"
      ]
    },
    {
      "cell_type": "markdown",
      "metadata": {
        "id": "uf8b-d7YrYsb"
      },
      "source": [
        "Use the Repeated K-fold CV with Random Forest"
      ]
    },
    {
      "cell_type": "code",
      "execution_count": 10,
      "metadata": {
        "colab": {
          "base_uri": "https://localhost:8080/"
        },
        "id": "sT6xkzjwRH_X",
        "outputId": "1334aa60-ccf5-4cf2-8298-eecfe208979a"
      },
      "outputs": [
        {
          "name": "stdout",
          "output_type": "stream",
          "text": [
            "Mean Squared Error for Repeated K-fold Cross-Validation Random Forest Regression: 4.10295742454\n",
            "The predicted value of std dev given input is  0.6832563406947816\n"
          ]
        }
      ],
      "source": [
        "from sklearn.model_selection import RepeatedKFold\n",
        "\n",
        "# Initialize the repeated K-fold cross-validator\n",
        "rkf = RepeatedKFold(n_splits=5, n_repeats=10, random_state=0)\n",
        "\n",
        "# Initialize lists to store performance metrics\n",
        "mse_scores_rf = []\n",
        "\n",
        "# Iterate through each fold and repetition\n",
        "for train_index, test_index in rkf.split(X):\n",
        "    # Split the data into training and testing sets\n",
        "    x_train, x_test = X.iloc[train_index], X.iloc[test_index]\n",
        "    y_train, y_test = y.iloc[train_index], y.iloc[test_index]\n",
        "\n",
        "    # Fit the Random Forest regressor\n",
        "    rf_model = RandomForestRegressor(random_state=0)\n",
        "    rf_model.fit(x_train, y_train)\n",
        "\n",
        "    # Make predictions on the testing set\n",
        "    y_pred = rf_model.predict(x_test)\n",
        "    # Calculate Mean Squared Error (MSE) and append to the list\n",
        "    mse = mean_squared_error(y_test, y_pred)\n",
        "    mse_scores_rf.append(mse)\n",
        "\n",
        "# Calculate and print the average MSE across all folds and repetitions\n",
        "\n",
        "mse_rf = np.mean(mse_scores_rf)\n",
        "mserrr=np.std(mse_scores_rf)\n",
        "print(f'Mean Squared Error for Repeated K-fold Cross-Validation Random Forest Regression: {mse_rf}')\n",
        "print('The predicted value of std dev given input is ', mserrr)"
      ]
    },
    {
      "cell_type": "markdown",
      "metadata": {
        "id": "gau3RcZ3sATx"
      },
      "source": [
        "Create the function to give the predicted value of Dmax."
      ]
    },
    {
      "cell_type": "code",
      "execution_count": 11,
      "metadata": {
        "id": "7gSaNHmxVRGF"
      },
      "outputs": [],
      "source": [
        "def predict_Dmax(Tg,Tx,Tl,TEN,VA,d,Sm):\n",
        "  input_values=[Tg,Tx,Tl,TEN,VA,d,Sm]\n",
        "  final_pred=np.mean(rf_model.predict([input_values]))\n",
        "  return final_pred"
      ]
    },
    {
      "cell_type": "markdown",
      "metadata": {
        "id": "2MDJW72DsP6s"
      },
      "source": [
        "Now predict the values of Dmax using the above Dmax"
      ]
    },
    {
      "cell_type": "code",
      "execution_count": 12,
      "metadata": {
        "colab": {
          "base_uri": "https://localhost:8080/"
        },
        "id": "T7B19zvmlaNC",
        "outputId": "ebb9c76d-520c-459a-a92a-b626edce9e1a"
      },
      "outputs": [
        {
          "name": "stderr",
          "output_type": "stream",
          "text": [
            "c:\\Users\\Aditya\\AppData\\Local\\Programs\\Python\\Python312\\Lib\\site-packages\\sklearn\\base.py:493: UserWarning: X does not have valid feature names, but RandomForestRegressor was fitted with feature names\n",
            "  warnings.warn(\n"
          ]
        },
        {
          "data": {
            "text/plain": [
              "5.4468000000000005"
            ]
          },
          "execution_count": 12,
          "metadata": {},
          "output_type": "execute_result"
        }
      ],
      "source": [
        "predict_Dmax(622,662,1009,1.62,14.12,0.19,12.57)\n",
        "# The correct answer is 6."
      ]
    }
  ],
  "metadata": {
    "colab": {
      "provenance": []
    },
    "kernelspec": {
      "display_name": "Python 3",
      "name": "python3"
    },
    "language_info": {
      "codemirror_mode": {
        "name": "ipython",
        "version": 3
      },
      "file_extension": ".py",
      "mimetype": "text/x-python",
      "name": "python",
      "nbconvert_exporter": "python",
      "pygments_lexer": "ipython3",
      "version": "3.12.2"
    }
  },
  "nbformat": 4,
  "nbformat_minor": 0
}
